{
 "cells": [
  {
   "cell_type": "markdown",
   "id": "cleared-basics",
   "metadata": {},
   "source": [
    "# Introduction\n",
    "\n",
    "Trying to get a list of ontology terms and ids."
   ]
  },
  {
   "cell_type": "code",
   "execution_count": 1,
   "id": "subtle-luxury",
   "metadata": {},
   "outputs": [],
   "source": [
    "import bz2\n",
    "from lxml import etree\n",
    "import os"
   ]
  },
  {
   "cell_type": "code",
   "execution_count": null,
   "id": "sound-gospel",
   "metadata": {},
   "outputs": [],
   "source": []
  },
  {
   "cell_type": "code",
   "execution_count": 2,
   "id": "amazing-integration",
   "metadata": {},
   "outputs": [],
   "source": [
    "with bz2.BZ2File(\"uberon.owl.bz2\", \"r\") as instream:\n",
    "    tree = etree.parse(instream)"
   ]
  },
  {
   "cell_type": "code",
   "execution_count": 3,
   "id": "french-coordinator",
   "metadata": {},
   "outputs": [],
   "source": [
    "root = tree.getroot()"
   ]
  },
  {
   "cell_type": "code",
   "execution_count": 4,
   "id": "controlling-microphone",
   "metadata": {},
   "outputs": [
    {
     "data": {
      "text/plain": [
       "{'cl': 'http://purl.obolibrary.org/obo/cl#',\n",
       " 'dc': 'http://purl.org/dc/elements/1.1/',\n",
       " 'go': 'http://purl.obolibrary.org/obo/go#',\n",
       " 'pr': 'http://purl.obolibrary.org/obo/pr#',\n",
       " 'cl1': 'http://purl.obolibrary.org/obo/cl#3',\n",
       " 'cl2': 'http://purl.obolibrary.org/obo/cl#2',\n",
       " 'cl3': 'http://purl.obolibrary.org/obo/cl#1',\n",
       " 'obo': 'http://purl.obolibrary.org/obo/',\n",
       " 'owl': 'http://www.w3.org/2002/07/owl#',\n",
       " 'rdf': 'http://www.w3.org/1999/02/22-rdf-syntax-ns#',\n",
       " 'xsd': 'http://www.w3.org/2001/XMLSchema#',\n",
       " 'bspo': 'http://purl.obolibrary.org/obo/bspo#',\n",
       " 'cito': 'http://purl.org/spar/cito/',\n",
       " 'core': 'http://purl.obolibrary.org/obo/uberon/core#',\n",
       " 'doap': 'http://usefulinc.com/ns/doap#',\n",
       " 'foaf': 'http://xmlns.com/foaf/0.1/',\n",
       " 'pato': 'http://purl.obolibrary.org/obo/pato#',\n",
       " 'rdfs': 'http://www.w3.org/2000/01/rdf-schema#',\n",
       " 'skos': 'http://www.w3.org/2004/02/skos/core#',\n",
       " 'swrl': 'http://www.w3.org/2003/11/swrl#',\n",
       " 'chebi': 'http://purl.obolibrary.org/obo/chebi/',\n",
       " 'swrla': 'http://swrl.stanford.edu/ontologies/3.3/swrla.owl#',\n",
       " 'swrlb': 'http://www.w3.org/2003/11/swrlb#',\n",
       " 'terms': 'http://purl.org/dc/terms/',\n",
       " 'chebi4': 'http://purl.obolibrary.org/obo/chebi#3',\n",
       " 'chebi5': 'http://purl.obolibrary.org/obo/chebi#1',\n",
       " 'ubprop': 'http://purl.obolibrary.org/obo/ubprop#',\n",
       " 'subsets': 'http://purl.obolibrary.org/obo/ro/subsets#',\n",
       " 'oboInOwl': 'http://www.geneontology.org/formats/oboInOwl#',\n",
       " 'ncbitaxon': 'http://purl.obolibrary.org/obo/ncbitaxon#',\n",
       " 'uberon': 'http://purl.obolibrary.org/obo/uberon.owl#'}"
      ]
     },
     "execution_count": 4,
     "metadata": {},
     "output_type": "execute_result"
    }
   ],
   "source": [
    "namespaces = root.nsmap.copy()\n",
    "\n",
    "uberon = namespaces[None]\n",
    "del namespaces[None]\n",
    "namespaces[\"uberon\"] = uberon\n",
    "namespaces"
   ]
  },
  {
   "cell_type": "code",
   "execution_count": 5,
   "id": "technological-dividend",
   "metadata": {},
   "outputs": [],
   "source": [
    "terms = root.xpath(\"//owl:Class\", namespaces=namespaces)"
   ]
  },
  {
   "cell_type": "code",
   "execution_count": 6,
   "id": "particular-wells",
   "metadata": {},
   "outputs": [
    {
     "data": {
      "text/plain": [
       "28235"
      ]
     },
     "execution_count": 6,
     "metadata": {},
     "output_type": "execute_result"
    }
   ],
   "source": [
    "len(terms)"
   ]
  },
  {
   "cell_type": "code",
   "execution_count": 7,
   "id": "second-petite",
   "metadata": {},
   "outputs": [
    {
     "data": {
      "text/plain": [
       "[<Element {http://www.w3.org/2002/07/owl#}equivalentClass at 0x7fe9497031c0>,\n",
       " <Element {http://www.w3.org/2000/01/rdf-schema#}subClassOf at 0x7fe949703240>,\n",
       " <Element {http://www.w3.org/2000/01/rdf-schema#}subClassOf at 0x7fe949703280>,\n",
       " <Element {http://www.w3.org/2000/01/rdf-schema#}subClassOf at 0x7fe9497032c0>,\n",
       " <Element {http://www.w3.org/2000/01/rdf-schema#}subClassOf at 0x7fe949703300>,\n",
       " <Element {http://purl.obolibrary.org/obo/}IAO_0000115 at 0x7fe949703380>,\n",
       " <Element {http://www.geneontology.org/formats/oboInOwl#}hasOBONamespace at 0x7fe9497033c0>,\n",
       " <Element {http://www.geneontology.org/formats/oboInOwl#}id at 0x7fe949703400>,\n",
       " <Element {http://www.w3.org/2000/01/rdf-schema#}label at 0x7fe949703440>]"
      ]
     },
     "execution_count": 7,
     "metadata": {},
     "output_type": "execute_result"
    }
   ],
   "source": [
    "terms[20000].getchildren()"
   ]
  },
  {
   "cell_type": "code",
   "execution_count": 8,
   "id": "cubic-collect",
   "metadata": {},
   "outputs": [
    {
     "data": {
      "text/plain": [
       "[<Element {http://www.w3.org/2000/01/rdf-schema#}label at 0x7fe949703440>]"
      ]
     },
     "execution_count": 8,
     "metadata": {},
     "output_type": "execute_result"
    }
   ],
   "source": [
    "terms[20000].xpath(\"rdfs:label\", namespaces=namespaces)"
   ]
  },
  {
   "cell_type": "code",
   "execution_count": 9,
   "id": "selective-integrity",
   "metadata": {},
   "outputs": [
    {
     "data": {
      "text/plain": [
       "'A distal tarsal bone 3 endochondral element that is composed primarily of a pre-cartilage condensation.'"
      ]
     },
     "execution_count": 9,
     "metadata": {},
     "output_type": "execute_result"
    }
   ],
   "source": [
    "terms[20000].xpath(\"obo:IAO_0000115\", namespaces=namespaces)[0].text"
   ]
  },
  {
   "cell_type": "code",
   "execution_count": 10,
   "id": "becoming-following",
   "metadata": {},
   "outputs": [],
   "source": [
    "terms = []\n",
    "for owl_class in root.xpath(\"//owl:Class\", namespaces=namespaces):\n",
    "    class_ids = owl_class.xpath(\"oboInOwl:id\", namespaces=namespaces)\n",
    "    labels = owl_class.xpath(\"rdfs:label\", namespaces=namespaces)\n",
    "    description = owl_class.xpath(\"obo:IAO_0000115\", namespaces=namespaces)\n",
    "    if len(class_ids) > 0 and len(labels) > 0:\n",
    "        if len(description) > 0:\n",
    "            description = description[0].text\n",
    "        else:\n",
    "            description = \"\"\n",
    "        terms.append((class_ids[0].text, labels[0].text, description))"
   ]
  },
  {
   "cell_type": "code",
   "execution_count": 12,
   "id": "settled-auction",
   "metadata": {},
   "outputs": [],
   "source": [
    "with bz2.BZ2File(\"obo.tsv.bz2\", \"w\") as outstream:\n",
    "    outstream.write(\"term_id\\tterm_name\\tdescription\".encode(\"utf8\"))\n",
    "    outstream.write(os.linesep.encode(\"utf8\"))\n",
    "    for term in terms:\n",
    "        row = \"\\t\".join(term)\n",
    "        outstream.write(row.encode(\"utf8\"))\n",
    "        outstream.write(os.linesep.encode(\"utf8\"))"
   ]
  },
  {
   "cell_type": "code",
   "execution_count": null,
   "id": "smooth-flavor",
   "metadata": {},
   "outputs": [],
   "source": []
  }
 ],
 "metadata": {
  "kernelspec": {
   "display_name": "Python 3",
   "language": "python",
   "name": "python3"
  },
  "language_info": {
   "codemirror_mode": {
    "name": "ipython",
    "version": 3
   },
   "file_extension": ".py",
   "mimetype": "text/x-python",
   "name": "python",
   "nbconvert_exporter": "python",
   "pygments_lexer": "ipython3",
   "version": "3.9.2"
  }
 },
 "nbformat": 4,
 "nbformat_minor": 5
}
