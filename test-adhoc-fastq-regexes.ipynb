{
 "cells": [
  {
   "cell_type": "code",
   "execution_count": 1,
   "id": "stable-hebrew",
   "metadata": {},
   "outputs": [],
   "source": [
    "import re\n",
    "from pathlib import Path"
   ]
  },
  {
   "cell_type": "code",
   "execution_count": 2,
   "id": "angry-marketplace",
   "metadata": {},
   "outputs": [],
   "source": [
    "fastqs = [\n",
    "    \"igvf_003/nanopore/igvf003_8A_lig-ss_1.fastq.gz\",\n",
    "    \"igvf_b01/next1/B01_13E_R1.fastq.gz\",\n",
    "    \"igvf_003/nova1/Sublibrary_10_S9_L001_R1_001.fastq.gz\",\n",
    "    \"igvf_012/nextseq/012_13A_S1_L001_R1_001.fastq.gz\",\n",
    "]"
   ]
  },
  {
   "cell_type": "code",
   "execution_count": 3,
   "id": "undefined-refrigerator",
   "metadata": {},
   "outputs": [],
   "source": [
    "plate_re = r\"(igvf)?(?P<plate_id>([\\d]{3})|(B[\\d]{2}))\"\n",
    "library_id_name_re = r\"(?P<library_id>[\\d]+[A-Z]+)\"\n",
    "library_id_index_re = r\"(?P<library_id>[\\d]+)\"\n",
    "sample_re = r\"S(?P<sample_id>[\\d]+)\"\n",
    "lane_re = r\"(?P<lane_id>L[\\d]+)\"\n",
    "read_re = r\"(?P<read_id>[RI][\\d])\"\n",
    "fragment_re = r\"(?P<fragment>[\\d]+)\"\n",
    "compression_re = r\"(?P<compression>gz|bz2|xz|zstd)\"\n",
    "\n",
    "nanopore_re = re.compile(f\"{plate_re}_{library_id_name_re}_lig-ss_{fragment_re}.fastq.{compression_re}\")\n",
    "library_name_re = re.compile(f\"{plate_re}_{library_id_name_re}_{read_re}.fastq.{compression_re}\")\n",
    "library_index_re = re.compile(f\"Sublibrary_{library_id_index_re}_{sample_re}_{lane_re}_{read_re}_{fragment_re}.fastq.{compression_re}\")\n",
    "library_name_lane_re = re.compile(f\"{plate_re}_{library_id_name_re}_{sample_re}_{lane_re}_{read_re}_{fragment_re}.fastq.{compression_re}\")\n",
    "\n",
    "patterns = [nanopore_re, library_name_re, library_index_re, library_name_lane_re]\n"
   ]
  },
  {
   "cell_type": "code",
   "execution_count": 7,
   "id": "angry-reunion",
   "metadata": {},
   "outputs": [
    {
     "name": "stdout",
     "output_type": "stream",
     "text": [
      "0 {'plate_id': '003', 'library_id': '8A', 'fragment': '1', 'compression': 'gz'} igvf003_8A_lig-ss_1.fastq.gz\n",
      "1 {'plate_id': 'B01', 'library_id': '13E', 'read_id': 'R1', 'compression': 'gz'} B01_13E_R1.fastq.gz\n",
      "2 {'library_id': '10', 'sample_id': '9', 'lane_id': 'L001', 'read_id': 'R1', 'fragment': '001', 'compression': 'gz'} Sublibrary_10_S9_L001_R1_001.fastq.gz\n",
      "3 {'plate_id': '012', 'library_id': '13A', 'sample_id': '1', 'lane_id': 'L001', 'read_id': 'R1', 'fragment': '001', 'compression': 'gz'} 012_13A_S1_L001_R1_001.fastq.gz\n"
     ]
    }
   ],
   "source": [
    "for fastq in fastqs:\n",
    "    fastq = Path(fastq)\n",
    "    for i, pattern in enumerate(patterns):\n",
    "        match = pattern.match(fastq.name)\n",
    "        if match is not None:\n",
    "            print(i, match.groupdict(), fastq.name)\n",
    "            "
   ]
  },
  {
   "cell_type": "code",
   "execution_count": null,
   "id": "velvet-investigator",
   "metadata": {},
   "outputs": [],
   "source": []
  }
 ],
 "metadata": {
  "kernelspec": {
   "display_name": "Python 3",
   "language": "python",
   "name": "python3"
  },
  "language_info": {
   "codemirror_mode": {
    "name": "ipython",
    "version": 3
   },
   "file_extension": ".py",
   "mimetype": "text/x-python",
   "name": "python",
   "nbconvert_exporter": "python",
   "pygments_lexer": "ipython3",
   "version": "3.9.2"
  }
 },
 "nbformat": 4,
 "nbformat_minor": 5
}
